{
 "cells": [
  {
   "cell_type": "code",
   "execution_count": 89,
   "id": "b95981e1",
   "metadata": {},
   "outputs": [],
   "source": [
    "import tensorflow as tf\n",
    "import numpy as np"
   ]
  },
  {
   "cell_type": "code",
   "execution_count": 90,
   "id": "d766de1d",
   "metadata": {},
   "outputs": [],
   "source": [
    "my_series = np.arange(1, 31)"
   ]
  },
  {
   "cell_type": "code",
   "execution_count": 91,
   "id": "905274c0",
   "metadata": {},
   "outputs": [],
   "source": [
    "dataset = tf.keras.utils.timeseries_dataset_from_array(\n",
    "    my_series,\n",
    "    targets=my_series[5:],\n",
    "    sequence_length=5,\n",
    "    batch_size=3\n",
    ")"
   ]
  },
  {
   "cell_type": "code",
   "execution_count": 92,
   "id": "199827d5",
   "metadata": {},
   "outputs": [
    {
     "name": "stdout",
     "output_type": "stream",
     "text": [
      "(<tf.Tensor: shape=(3, 5), dtype=int64, numpy=\n",
      "array([[1, 2, 3, 4, 5],\n",
      "       [2, 3, 4, 5, 6],\n",
      "       [3, 4, 5, 6, 7]])>, <tf.Tensor: shape=(3,), dtype=int64, numpy=array([6, 7, 8])>)\n",
      "(<tf.Tensor: shape=(3, 5), dtype=int64, numpy=\n",
      "array([[ 4,  5,  6,  7,  8],\n",
      "       [ 5,  6,  7,  8,  9],\n",
      "       [ 6,  7,  8,  9, 10]])>, <tf.Tensor: shape=(3,), dtype=int64, numpy=array([ 9, 10, 11])>)\n",
      "(<tf.Tensor: shape=(3, 5), dtype=int64, numpy=\n",
      "array([[ 7,  8,  9, 10, 11],\n",
      "       [ 8,  9, 10, 11, 12],\n",
      "       [ 9, 10, 11, 12, 13]])>, <tf.Tensor: shape=(3,), dtype=int64, numpy=array([12, 13, 14])>)\n"
     ]
    },
    {
     "name": "stderr",
     "output_type": "stream",
     "text": [
      "2024-12-25 19:11:07.181382: W tensorflow/core/framework/local_rendezvous.cc:404] Local rendezvous is aborting with status: OUT_OF_RANGE: End of sequence\n"
     ]
    }
   ],
   "source": [
    "for item in dataset.take(3):\n",
    "    print(item)"
   ]
  },
  {
   "cell_type": "markdown",
   "id": "d42f83ff",
   "metadata": {},
   "source": [
    "# Another exmaple for Keras time series utility function"
   ]
  },
  {
   "cell_type": "code",
   "execution_count": 93,
   "id": "b1619fc3",
   "metadata": {},
   "outputs": [],
   "source": [
    "my_series = np.arange(1, 101)"
   ]
  },
  {
   "cell_type": "code",
   "execution_count": 94,
   "id": "8b5fb0fd",
   "metadata": {},
   "outputs": [],
   "source": [
    "dataset = tf.keras.utils.timeseries_dataset_from_array(\n",
    "    my_series,\n",
    "    targets=my_series[10:],\n",
    "    sequence_length=10,\n",
    "    batch_size=5\n",
    ")"
   ]
  },
  {
   "cell_type": "code",
   "execution_count": 96,
   "id": "9c63b022",
   "metadata": {},
   "outputs": [
    {
     "name": "stdout",
     "output_type": "stream",
     "text": [
      "(<tf.Tensor: shape=(5, 10), dtype=int64, numpy=\n",
      "array([[ 1,  2,  3,  4,  5,  6,  7,  8,  9, 10],\n",
      "       [ 2,  3,  4,  5,  6,  7,  8,  9, 10, 11],\n",
      "       [ 3,  4,  5,  6,  7,  8,  9, 10, 11, 12],\n",
      "       [ 4,  5,  6,  7,  8,  9, 10, 11, 12, 13],\n",
      "       [ 5,  6,  7,  8,  9, 10, 11, 12, 13, 14]])>, <tf.Tensor: shape=(5,), dtype=int64, numpy=array([11, 12, 13, 14, 15])>)\n",
      "(<tf.Tensor: shape=(5, 10), dtype=int64, numpy=\n",
      "array([[ 6,  7,  8,  9, 10, 11, 12, 13, 14, 15],\n",
      "       [ 7,  8,  9, 10, 11, 12, 13, 14, 15, 16],\n",
      "       [ 8,  9, 10, 11, 12, 13, 14, 15, 16, 17],\n",
      "       [ 9, 10, 11, 12, 13, 14, 15, 16, 17, 18],\n",
      "       [10, 11, 12, 13, 14, 15, 16, 17, 18, 19]])>, <tf.Tensor: shape=(5,), dtype=int64, numpy=array([16, 17, 18, 19, 20])>)\n"
     ]
    },
    {
     "name": "stderr",
     "output_type": "stream",
     "text": [
      "2024-12-25 19:12:22.933623: W tensorflow/core/framework/local_rendezvous.cc:404] Local rendezvous is aborting with status: OUT_OF_RANGE: End of sequence\n"
     ]
    }
   ],
   "source": [
    "for item in dataset.take(2):\n",
    "    print(item)"
   ]
  },
  {
   "cell_type": "markdown",
   "id": "90a7e80d",
   "metadata": {},
   "source": [
    "# Window function for more control"
   ]
  },
  {
   "cell_type": "code",
   "execution_count": 110,
   "id": "b78d665a",
   "metadata": {},
   "outputs": [],
   "source": [
    "dataset = tf.data.Dataset.range(1, 51).window(5, shift=1, drop_remainder=True)"
   ]
  },
  {
   "cell_type": "code",
   "execution_count": 111,
   "id": "8220e667",
   "metadata": {},
   "outputs": [],
   "source": [
    "dataset = dataset.flat_map(lambda window: window.batch(5))"
   ]
  },
  {
   "cell_type": "code",
   "execution_count": 113,
   "id": "3a0631d0",
   "metadata": {},
   "outputs": [
    {
     "name": "stdout",
     "output_type": "stream",
     "text": [
      "tf.Tensor([1 2 3 4 5], shape=(5,), dtype=int64)\n",
      "tf.Tensor([2 3 4 5 6], shape=(5,), dtype=int64)\n",
      "tf.Tensor([3 4 5 6 7], shape=(5,), dtype=int64)\n",
      "tf.Tensor([4 5 6 7 8], shape=(5,), dtype=int64)\n",
      "tf.Tensor([5 6 7 8 9], shape=(5,), dtype=int64)\n"
     ]
    },
    {
     "name": "stderr",
     "output_type": "stream",
     "text": [
      "2024-12-25 19:23:02.970400: W tensorflow/core/framework/local_rendezvous.cc:404] Local rendezvous is aborting with status: OUT_OF_RANGE: End of sequence\n"
     ]
    }
   ],
   "source": [
    "for tensor in dataset.take(5):\n",
    "    print(tensor)"
   ]
  },
  {
   "cell_type": "markdown",
   "id": "1767d4fb",
   "metadata": {},
   "source": [
    "# A dataset to train our RNN"
   ]
  },
  {
   "cell_type": "code",
   "execution_count": 114,
   "id": "67713249",
   "metadata": {},
   "outputs": [],
   "source": [
    "import pandas as pd"
   ]
  },
  {
   "cell_type": "code",
   "execution_count": 125,
   "id": "bee9d507",
   "metadata": {},
   "outputs": [
    {
     "data": {
      "text/html": [
       "<div>\n",
       "<style scoped>\n",
       "    .dataframe tbody tr th:only-of-type {\n",
       "        vertical-align: middle;\n",
       "    }\n",
       "\n",
       "    .dataframe tbody tr th {\n",
       "        vertical-align: top;\n",
       "    }\n",
       "\n",
       "    .dataframe thead th {\n",
       "        text-align: right;\n",
       "    }\n",
       "</style>\n",
       "<table border=\"1\" class=\"dataframe\">\n",
       "  <thead>\n",
       "    <tr style=\"text-align: right;\">\n",
       "      <th></th>\n",
       "      <th>service_date</th>\n",
       "      <th>day_type</th>\n",
       "      <th>bus</th>\n",
       "      <th>rail_boardings</th>\n",
       "      <th>total_rides</th>\n",
       "    </tr>\n",
       "  </thead>\n",
       "  <tbody>\n",
       "    <tr>\n",
       "      <th>0</th>\n",
       "      <td>01/01/2001</td>\n",
       "      <td>U</td>\n",
       "      <td>297192</td>\n",
       "      <td>126455</td>\n",
       "      <td>423647</td>\n",
       "    </tr>\n",
       "    <tr>\n",
       "      <th>1</th>\n",
       "      <td>01/02/2001</td>\n",
       "      <td>W</td>\n",
       "      <td>780827</td>\n",
       "      <td>501952</td>\n",
       "      <td>1282779</td>\n",
       "    </tr>\n",
       "    <tr>\n",
       "      <th>2</th>\n",
       "      <td>01/03/2001</td>\n",
       "      <td>W</td>\n",
       "      <td>824923</td>\n",
       "      <td>536432</td>\n",
       "      <td>1361355</td>\n",
       "    </tr>\n",
       "    <tr>\n",
       "      <th>3</th>\n",
       "      <td>01/04/2001</td>\n",
       "      <td>W</td>\n",
       "      <td>870021</td>\n",
       "      <td>550011</td>\n",
       "      <td>1420032</td>\n",
       "    </tr>\n",
       "    <tr>\n",
       "      <th>4</th>\n",
       "      <td>01/05/2001</td>\n",
       "      <td>W</td>\n",
       "      <td>890426</td>\n",
       "      <td>557917</td>\n",
       "      <td>1448343</td>\n",
       "    </tr>\n",
       "  </tbody>\n",
       "</table>\n",
       "</div>"
      ],
      "text/plain": [
       "  service_date day_type     bus  rail_boardings  total_rides\n",
       "0   01/01/2001        U  297192          126455       423647\n",
       "1   01/02/2001        W  780827          501952      1282779\n",
       "2   01/03/2001        W  824923          536432      1361355\n",
       "3   01/04/2001        W  870021          550011      1420032\n",
       "4   01/05/2001        W  890426          557917      1448343"
      ]
     },
     "execution_count": 125,
     "metadata": {},
     "output_type": "execute_result"
    }
   ],
   "source": [
    "df = pd.read_csv('/Users/anilthapa/Downloads/CTA_-_Ridership_-_Daily_Boarding_Totals_20241114.csv')\n",
    "df.head()"
   ]
  },
  {
   "cell_type": "code",
   "execution_count": 127,
   "id": "3737e90b",
   "metadata": {},
   "outputs": [],
   "source": [
    "df['service_date'] = pd.to_datetime(df['service_date'])"
   ]
  },
  {
   "cell_type": "code",
   "execution_count": 128,
   "id": "76eb2931",
   "metadata": {},
   "outputs": [],
   "source": [
    "df.set_index('service_date', inplace=True)"
   ]
  },
  {
   "cell_type": "code",
   "execution_count": 129,
   "id": "7409c943",
   "metadata": {},
   "outputs": [],
   "source": [
    "df.drop(['day_type', 'bus'], axis = 1, inplace=True)"
   ]
  },
  {
   "cell_type": "code",
   "execution_count": 130,
   "id": "d75775e6",
   "metadata": {},
   "outputs": [],
   "source": [
    "df.sort_index(inplace=True)"
   ]
  },
  {
   "cell_type": "code",
   "execution_count": 132,
   "id": "d65f5b73",
   "metadata": {},
   "outputs": [
    {
     "data": {
      "text/html": [
       "<div>\n",
       "<style scoped>\n",
       "    .dataframe tbody tr th:only-of-type {\n",
       "        vertical-align: middle;\n",
       "    }\n",
       "\n",
       "    .dataframe tbody tr th {\n",
       "        vertical-align: top;\n",
       "    }\n",
       "\n",
       "    .dataframe thead th {\n",
       "        text-align: right;\n",
       "    }\n",
       "</style>\n",
       "<table border=\"1\" class=\"dataframe\">\n",
       "  <thead>\n",
       "    <tr style=\"text-align: right;\">\n",
       "      <th></th>\n",
       "      <th>rail_boardings</th>\n",
       "      <th>total_rides</th>\n",
       "    </tr>\n",
       "    <tr>\n",
       "      <th>service_date</th>\n",
       "      <th></th>\n",
       "      <th></th>\n",
       "    </tr>\n",
       "  </thead>\n",
       "  <tbody>\n",
       "    <tr>\n",
       "      <th>2001-01-01</th>\n",
       "      <td>126455</td>\n",
       "      <td>423647</td>\n",
       "    </tr>\n",
       "    <tr>\n",
       "      <th>2001-01-02</th>\n",
       "      <td>501952</td>\n",
       "      <td>1282779</td>\n",
       "    </tr>\n",
       "    <tr>\n",
       "      <th>2001-01-03</th>\n",
       "      <td>536432</td>\n",
       "      <td>1361355</td>\n",
       "    </tr>\n",
       "    <tr>\n",
       "      <th>2001-01-04</th>\n",
       "      <td>550011</td>\n",
       "      <td>1420032</td>\n",
       "    </tr>\n",
       "    <tr>\n",
       "      <th>2001-01-05</th>\n",
       "      <td>557917</td>\n",
       "      <td>1448343</td>\n",
       "    </tr>\n",
       "  </tbody>\n",
       "</table>\n",
       "</div>"
      ],
      "text/plain": [
       "              rail_boardings  total_rides\n",
       "service_date                             \n",
       "2001-01-01            126455       423647\n",
       "2001-01-02            501952      1282779\n",
       "2001-01-03            536432      1361355\n",
       "2001-01-04            550011      1420032\n",
       "2001-01-05            557917      1448343"
      ]
     },
     "execution_count": 132,
     "metadata": {},
     "output_type": "execute_result"
    }
   ],
   "source": [
    "df.head()"
   ]
  },
  {
   "cell_type": "code",
   "execution_count": 133,
   "id": "670b5cfe",
   "metadata": {},
   "outputs": [],
   "source": [
    "df.rename(columns={'rail_boardings': 'rail'}, inplace=True)"
   ]
  },
  {
   "cell_type": "code",
   "execution_count": 135,
   "id": "87113833",
   "metadata": {},
   "outputs": [
    {
     "name": "stdout",
     "output_type": "stream",
     "text": [
      "<class 'pandas.core.frame.DataFrame'>\n",
      "DatetimeIndex: 8706 entries, 2001-01-01 to 2024-08-31\n",
      "Data columns (total 2 columns):\n",
      " #   Column       Non-Null Count  Dtype\n",
      "---  ------       --------------  -----\n",
      " 0   rail         8706 non-null   int64\n",
      " 1   total_rides  8706 non-null   int64\n",
      "dtypes: int64(2)\n",
      "memory usage: 204.0 KB\n"
     ]
    }
   ],
   "source": [
    "df.info()"
   ]
  },
  {
   "cell_type": "code",
   "execution_count": 136,
   "id": "b0cac4c0",
   "metadata": {},
   "outputs": [],
   "source": [
    "# Split the datasets"
   ]
  },
  {
   "cell_type": "code",
   "execution_count": 138,
   "id": "824b9c00",
   "metadata": {},
   "outputs": [],
   "source": [
    "rail_train = df['rail']['2016-01':'2018-12'] /1e6\n",
    "rail_valid = df['rail']['2019-01': '2019-05'] / 1e6\n",
    "rail_test = df['rail']['2019-06': '2019-12'] /1e6"
   ]
  },
  {
   "cell_type": "code",
   "execution_count": 141,
   "id": "6cb04079",
   "metadata": {},
   "outputs": [],
   "source": [
    "train_ds = tf.keras.utils.timeseries_dataset_from_array(\n",
    "    rail_train.to_numpy(),\n",
    "    targets= rail_train[56:],\n",
    "    sequence_length=56, \n",
    "    batch_size=32, \n",
    "    shuffle=True, \n",
    "    seed=42\n",
    ")"
   ]
  },
  {
   "cell_type": "code",
   "execution_count": 142,
   "id": "e1e8e476",
   "metadata": {},
   "outputs": [],
   "source": [
    "valid_ds = tf.keras.utils.timeseries_dataset_from_array(\n",
    "    rail_valid.to_numpy(),\n",
    "    targets=rail_valid[56:],\n",
    "    sequence_length=56,\n",
    "    batch_size=32\n",
    ")"
   ]
  },
  {
   "cell_type": "markdown",
   "id": "54dd558c",
   "metadata": {},
   "source": [
    "# Forecasting using a linear model"
   ]
  },
  {
   "cell_type": "code",
   "execution_count": 143,
   "id": "546f99a6",
   "metadata": {},
   "outputs": [],
   "source": [
    "tf.random.set_seed(42)"
   ]
  },
  {
   "cell_type": "code",
   "execution_count": 144,
   "id": "c67ca658",
   "metadata": {},
   "outputs": [],
   "source": [
    "model = tf.keras.Sequential([(tf.keras.layers.Input(shape=[56])), (tf.keras.layers.Dense(1))])"
   ]
  },
  {
   "cell_type": "code",
   "execution_count": 145,
   "id": "3dca161a",
   "metadata": {},
   "outputs": [],
   "source": [
    "model.compile(loss = 'huber', metrics=['mae'], optimizer = 'adam')"
   ]
  },
  {
   "cell_type": "code",
   "execution_count": 146,
   "id": "a43bfc66",
   "metadata": {},
   "outputs": [
    {
     "name": "stdout",
     "output_type": "stream",
     "text": [
      "Epoch 1/20\n",
      "\u001b[1m33/33\u001b[0m \u001b[32m━━━━━━━━━━━━━━━━━━━━\u001b[0m\u001b[37m\u001b[0m \u001b[1m1s\u001b[0m 8ms/step - loss: 0.9194 - mae: 1.4156 - val_loss: 0.1546 - val_mae: 0.5201\n",
      "Epoch 2/20\n",
      "\u001b[1m33/33\u001b[0m \u001b[32m━━━━━━━━━━━━━━━━━━━━\u001b[0m\u001b[37m\u001b[0m \u001b[1m0s\u001b[0m 4ms/step - loss: 0.0829 - mae: 0.3522 - val_loss: 0.0189 - val_mae: 0.1603\n",
      "Epoch 3/20\n",
      "\u001b[1m33/33\u001b[0m \u001b[32m━━━━━━━━━━━━━━━━━━━━\u001b[0m\u001b[37m\u001b[0m \u001b[1m0s\u001b[0m 4ms/step - loss: 0.0189 - mae: 0.1612 - val_loss: 0.0180 - val_mae: 0.1565\n",
      "Epoch 4/20\n",
      "\u001b[1m33/33\u001b[0m \u001b[32m━━━━━━━━━━━━━━━━━━━━\u001b[0m\u001b[37m\u001b[0m \u001b[1m0s\u001b[0m 3ms/step - loss: 0.0168 - mae: 0.1516 - val_loss: 0.0173 - val_mae: 0.1537\n",
      "Epoch 5/20\n",
      "\u001b[1m33/33\u001b[0m \u001b[32m━━━━━━━━━━━━━━━━━━━━\u001b[0m\u001b[37m\u001b[0m \u001b[1m0s\u001b[0m 4ms/step - loss: 0.0159 - mae: 0.1463 - val_loss: 0.0162 - val_mae: 0.1499\n",
      "Epoch 6/20\n",
      "\u001b[1m33/33\u001b[0m \u001b[32m━━━━━━━━━━━━━━━━━━━━\u001b[0m\u001b[37m\u001b[0m \u001b[1m0s\u001b[0m 3ms/step - loss: 0.0150 - mae: 0.1434 - val_loss: 0.0153 - val_mae: 0.1463\n",
      "Epoch 7/20\n",
      "\u001b[1m33/33\u001b[0m \u001b[32m━━━━━━━━━━━━━━━━━━━━\u001b[0m\u001b[37m\u001b[0m \u001b[1m0s\u001b[0m 4ms/step - loss: 0.0139 - mae: 0.1382 - val_loss: 0.0144 - val_mae: 0.1423\n",
      "Epoch 8/20\n",
      "\u001b[1m33/33\u001b[0m \u001b[32m━━━━━━━━━━━━━━━━━━━━\u001b[0m\u001b[37m\u001b[0m \u001b[1m0s\u001b[0m 3ms/step - loss: 0.0139 - mae: 0.1369 - val_loss: 0.0136 - val_mae: 0.1391\n",
      "Epoch 9/20\n",
      "\u001b[1m33/33\u001b[0m \u001b[32m━━━━━━━━━━━━━━━━━━━━\u001b[0m\u001b[37m\u001b[0m \u001b[1m0s\u001b[0m 3ms/step - loss: 0.0129 - mae: 0.1341 - val_loss: 0.0128 - val_mae: 0.1356\n",
      "Epoch 10/20\n",
      "\u001b[1m33/33\u001b[0m \u001b[32m━━━━━━━━━━━━━━━━━━━━\u001b[0m\u001b[37m\u001b[0m \u001b[1m0s\u001b[0m 3ms/step - loss: 0.0122 - mae: 0.1285 - val_loss: 0.0121 - val_mae: 0.1323\n",
      "Epoch 11/20\n",
      "\u001b[1m33/33\u001b[0m \u001b[32m━━━━━━━━━━━━━━━━━━━━\u001b[0m\u001b[37m\u001b[0m \u001b[1m0s\u001b[0m 4ms/step - loss: 0.0120 - mae: 0.1277 - val_loss: 0.0115 - val_mae: 0.1298\n",
      "Epoch 12/20\n",
      "\u001b[1m33/33\u001b[0m \u001b[32m━━━━━━━━━━━━━━━━━━━━\u001b[0m\u001b[37m\u001b[0m \u001b[1m0s\u001b[0m 3ms/step - loss: 0.0110 - mae: 0.1227 - val_loss: 0.0110 - val_mae: 0.1273\n",
      "Epoch 13/20\n",
      "\u001b[1m33/33\u001b[0m \u001b[32m━━━━━━━━━━━━━━━━━━━━\u001b[0m\u001b[37m\u001b[0m \u001b[1m0s\u001b[0m 3ms/step - loss: 0.0110 - mae: 0.1211 - val_loss: 0.0105 - val_mae: 0.1244\n",
      "Epoch 14/20\n",
      "\u001b[1m33/33\u001b[0m \u001b[32m━━━━━━━━━━━━━━━━━━━━\u001b[0m\u001b[37m\u001b[0m \u001b[1m0s\u001b[0m 3ms/step - loss: 0.0102 - mae: 0.1174 - val_loss: 0.0100 - val_mae: 0.1217\n",
      "Epoch 15/20\n",
      "\u001b[1m33/33\u001b[0m \u001b[32m━━━━━━━━━━━━━━━━━━━━\u001b[0m\u001b[37m\u001b[0m \u001b[1m0s\u001b[0m 3ms/step - loss: 0.0097 - mae: 0.1147 - val_loss: 0.0097 - val_mae: 0.1197\n",
      "Epoch 16/20\n",
      "\u001b[1m33/33\u001b[0m \u001b[32m━━━━━━━━━━━━━━━━━━━━\u001b[0m\u001b[37m\u001b[0m \u001b[1m0s\u001b[0m 3ms/step - loss: 0.0099 - mae: 0.1135 - val_loss: 0.0093 - val_mae: 0.1174\n",
      "Epoch 17/20\n",
      "\u001b[1m33/33\u001b[0m \u001b[32m━━━━━━━━━━━━━━━━━━━━\u001b[0m\u001b[37m\u001b[0m \u001b[1m0s\u001b[0m 3ms/step - loss: 0.0096 - mae: 0.1115 - val_loss: 0.0091 - val_mae: 0.1152\n",
      "Epoch 18/20\n",
      "\u001b[1m33/33\u001b[0m \u001b[32m━━━━━━━━━━━━━━━━━━━━\u001b[0m\u001b[37m\u001b[0m \u001b[1m0s\u001b[0m 3ms/step - loss: 0.0088 - mae: 0.1069 - val_loss: 0.0088 - val_mae: 0.1134\n",
      "Epoch 19/20\n",
      "\u001b[1m33/33\u001b[0m \u001b[32m━━━━━━━━━━━━━━━━━━━━\u001b[0m\u001b[37m\u001b[0m \u001b[1m0s\u001b[0m 3ms/step - loss: 0.0091 - mae: 0.1086 - val_loss: 0.0086 - val_mae: 0.1117\n",
      "Epoch 20/20\n",
      "\u001b[1m33/33\u001b[0m \u001b[32m━━━━━━━━━━━━━━━━━━━━\u001b[0m\u001b[37m\u001b[0m \u001b[1m0s\u001b[0m 3ms/step - loss: 0.0084 - mae: 0.1030 - val_loss: 0.0084 - val_mae: 0.1103\n"
     ]
    }
   ],
   "source": [
    "history = model.fit(train_ds, validation_data=valid_ds, epochs=20)"
   ]
  },
  {
   "cell_type": "code",
   "execution_count": null,
   "id": "1d0182a3",
   "metadata": {},
   "outputs": [],
   "source": []
  }
 ],
 "metadata": {
  "kernelspec": {
   "display_name": "Python 3 (ipykernel)",
   "language": "python",
   "name": "python3"
  },
  "language_info": {
   "codemirror_mode": {
    "name": "ipython",
    "version": 3
   },
   "file_extension": ".py",
   "mimetype": "text/x-python",
   "name": "python",
   "nbconvert_exporter": "python",
   "pygments_lexer": "ipython3",
   "version": "3.11.4"
  }
 },
 "nbformat": 4,
 "nbformat_minor": 5
}
