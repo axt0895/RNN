{
 "cells": [
  {
   "cell_type": "markdown",
   "id": "ddaa7583",
   "metadata": {},
   "source": [
    "# Multi-variate Time-series Forecasting"
   ]
  },
  {
   "cell_type": "code",
   "execution_count": 72,
   "id": "2dbd3724",
   "metadata": {},
   "outputs": [],
   "source": [
    "import numpy as np\n",
    "import pandas as pd\n",
    "import tensorflow as tf\n",
    "\n",
    "import matplotlib.pyplot as plt"
   ]
  },
  {
   "cell_type": "code",
   "execution_count": 33,
   "id": "34f4fe8b",
   "metadata": {},
   "outputs": [],
   "source": [
    "df = pd.read_csv('/Users/anilthapa/Downloads/Netflix_Data.csv')"
   ]
  },
  {
   "cell_type": "code",
   "execution_count": 34,
   "id": "ff344de9",
   "metadata": {},
   "outputs": [
    {
     "data": {
      "text/html": [
       "<div>\n",
       "<style scoped>\n",
       "    .dataframe tbody tr th:only-of-type {\n",
       "        vertical-align: middle;\n",
       "    }\n",
       "\n",
       "    .dataframe tbody tr th {\n",
       "        vertical-align: top;\n",
       "    }\n",
       "\n",
       "    .dataframe thead th {\n",
       "        text-align: right;\n",
       "    }\n",
       "</style>\n",
       "<table border=\"1\" class=\"dataframe\">\n",
       "  <thead>\n",
       "    <tr style=\"text-align: right;\">\n",
       "      <th></th>\n",
       "      <th>Unnamed: 0</th>\n",
       "      <th>Date</th>\n",
       "      <th>Adj_Close</th>\n",
       "      <th>Close</th>\n",
       "      <th>High</th>\n",
       "      <th>Low</th>\n",
       "      <th>Open</th>\n",
       "      <th>Volume</th>\n",
       "    </tr>\n",
       "  </thead>\n",
       "  <tbody>\n",
       "    <tr>\n",
       "      <th>0</th>\n",
       "      <td>0</td>\n",
       "      <td>2010-01-04 00:00:00+00:00</td>\n",
       "      <td>7.640000</td>\n",
       "      <td>7.640000</td>\n",
       "      <td>7.961429</td>\n",
       "      <td>7.565714</td>\n",
       "      <td>7.931429</td>\n",
       "      <td>17239600</td>\n",
       "    </tr>\n",
       "    <tr>\n",
       "      <th>1</th>\n",
       "      <td>1</td>\n",
       "      <td>2010-01-05 00:00:00+00:00</td>\n",
       "      <td>7.358571</td>\n",
       "      <td>7.358571</td>\n",
       "      <td>7.657143</td>\n",
       "      <td>7.258571</td>\n",
       "      <td>7.652857</td>\n",
       "      <td>23753100</td>\n",
       "    </tr>\n",
       "    <tr>\n",
       "      <th>2</th>\n",
       "      <td>2</td>\n",
       "      <td>2010-01-06 00:00:00+00:00</td>\n",
       "      <td>7.617143</td>\n",
       "      <td>7.617143</td>\n",
       "      <td>7.672857</td>\n",
       "      <td>7.197143</td>\n",
       "      <td>7.361429</td>\n",
       "      <td>23290400</td>\n",
       "    </tr>\n",
       "    <tr>\n",
       "      <th>3</th>\n",
       "      <td>3</td>\n",
       "      <td>2010-01-07 00:00:00+00:00</td>\n",
       "      <td>7.485714</td>\n",
       "      <td>7.485714</td>\n",
       "      <td>7.757143</td>\n",
       "      <td>7.462857</td>\n",
       "      <td>7.731429</td>\n",
       "      <td>9955400</td>\n",
       "    </tr>\n",
       "    <tr>\n",
       "      <th>4</th>\n",
       "      <td>4</td>\n",
       "      <td>2010-01-08 00:00:00+00:00</td>\n",
       "      <td>7.614286</td>\n",
       "      <td>7.614286</td>\n",
       "      <td>7.742857</td>\n",
       "      <td>7.465714</td>\n",
       "      <td>7.498571</td>\n",
       "      <td>8180900</td>\n",
       "    </tr>\n",
       "  </tbody>\n",
       "</table>\n",
       "</div>"
      ],
      "text/plain": [
       "   Unnamed: 0                       Date  Adj_Close     Close      High  \\\n",
       "0           0  2010-01-04 00:00:00+00:00   7.640000  7.640000  7.961429   \n",
       "1           1  2010-01-05 00:00:00+00:00   7.358571  7.358571  7.657143   \n",
       "2           2  2010-01-06 00:00:00+00:00   7.617143  7.617143  7.672857   \n",
       "3           3  2010-01-07 00:00:00+00:00   7.485714  7.485714  7.757143   \n",
       "4           4  2010-01-08 00:00:00+00:00   7.614286  7.614286  7.742857   \n",
       "\n",
       "        Low      Open    Volume  \n",
       "0  7.565714  7.931429  17239600  \n",
       "1  7.258571  7.652857  23753100  \n",
       "2  7.197143  7.361429  23290400  \n",
       "3  7.462857  7.731429   9955400  \n",
       "4  7.465714  7.498571   8180900  "
      ]
     },
     "execution_count": 34,
     "metadata": {},
     "output_type": "execute_result"
    }
   ],
   "source": [
    "df.head()"
   ]
  },
  {
   "cell_type": "code",
   "execution_count": 35,
   "id": "f6cb36a9",
   "metadata": {},
   "outputs": [],
   "source": [
    "df['Date'] = pd.to_datetime(df['Date']).dt.date.astype(str)"
   ]
  },
  {
   "cell_type": "code",
   "execution_count": 36,
   "id": "8ce7fa6e",
   "metadata": {},
   "outputs": [
    {
     "data": {
      "text/plain": [
       "Index(['Unnamed: 0', 'Date', 'Adj_Close', 'Close', 'High', 'Low', 'Open',\n",
       "       'Volume'],\n",
       "      dtype='object')"
      ]
     },
     "execution_count": 36,
     "metadata": {},
     "output_type": "execute_result"
    }
   ],
   "source": [
    "df.columns"
   ]
  },
  {
   "cell_type": "code",
   "execution_count": 37,
   "id": "ad1b13ac",
   "metadata": {},
   "outputs": [],
   "source": [
    "df.drop(['Unnamed: 0','Adj_Close','Volume'], axis =1, inplace = True)"
   ]
  },
  {
   "cell_type": "code",
   "execution_count": 38,
   "id": "10aa3541",
   "metadata": {},
   "outputs": [
    {
     "data": {
      "text/html": [
       "<div>\n",
       "<style scoped>\n",
       "    .dataframe tbody tr th:only-of-type {\n",
       "        vertical-align: middle;\n",
       "    }\n",
       "\n",
       "    .dataframe tbody tr th {\n",
       "        vertical-align: top;\n",
       "    }\n",
       "\n",
       "    .dataframe thead th {\n",
       "        text-align: right;\n",
       "    }\n",
       "</style>\n",
       "<table border=\"1\" class=\"dataframe\">\n",
       "  <thead>\n",
       "    <tr style=\"text-align: right;\">\n",
       "      <th></th>\n",
       "      <th>Date</th>\n",
       "      <th>Close</th>\n",
       "      <th>High</th>\n",
       "      <th>Low</th>\n",
       "      <th>Open</th>\n",
       "    </tr>\n",
       "  </thead>\n",
       "  <tbody>\n",
       "    <tr>\n",
       "      <th>0</th>\n",
       "      <td>2010-01-04</td>\n",
       "      <td>7.640000</td>\n",
       "      <td>7.961429</td>\n",
       "      <td>7.565714</td>\n",
       "      <td>7.931429</td>\n",
       "    </tr>\n",
       "    <tr>\n",
       "      <th>1</th>\n",
       "      <td>2010-01-05</td>\n",
       "      <td>7.358571</td>\n",
       "      <td>7.657143</td>\n",
       "      <td>7.258571</td>\n",
       "      <td>7.652857</td>\n",
       "    </tr>\n",
       "    <tr>\n",
       "      <th>2</th>\n",
       "      <td>2010-01-06</td>\n",
       "      <td>7.617143</td>\n",
       "      <td>7.672857</td>\n",
       "      <td>7.197143</td>\n",
       "      <td>7.361429</td>\n",
       "    </tr>\n",
       "    <tr>\n",
       "      <th>3</th>\n",
       "      <td>2010-01-07</td>\n",
       "      <td>7.485714</td>\n",
       "      <td>7.757143</td>\n",
       "      <td>7.462857</td>\n",
       "      <td>7.731429</td>\n",
       "    </tr>\n",
       "    <tr>\n",
       "      <th>4</th>\n",
       "      <td>2010-01-08</td>\n",
       "      <td>7.614286</td>\n",
       "      <td>7.742857</td>\n",
       "      <td>7.465714</td>\n",
       "      <td>7.498571</td>\n",
       "    </tr>\n",
       "  </tbody>\n",
       "</table>\n",
       "</div>"
      ],
      "text/plain": [
       "         Date     Close      High       Low      Open\n",
       "0  2010-01-04  7.640000  7.961429  7.565714  7.931429\n",
       "1  2010-01-05  7.358571  7.657143  7.258571  7.652857\n",
       "2  2010-01-06  7.617143  7.672857  7.197143  7.361429\n",
       "3  2010-01-07  7.485714  7.757143  7.462857  7.731429\n",
       "4  2010-01-08  7.614286  7.742857  7.465714  7.498571"
      ]
     },
     "execution_count": 38,
     "metadata": {},
     "output_type": "execute_result"
    }
   ],
   "source": [
    "df.head()"
   ]
  },
  {
   "cell_type": "code",
   "execution_count": 39,
   "id": "d8821ad9",
   "metadata": {},
   "outputs": [],
   "source": [
    "df.set_index('Date', inplace=True)"
   ]
  },
  {
   "cell_type": "code",
   "execution_count": 40,
   "id": "86b6c33e",
   "metadata": {},
   "outputs": [],
   "source": [
    "df.sort_index(inplace=True)"
   ]
  },
  {
   "cell_type": "code",
   "execution_count": 41,
   "id": "05f4a7b5",
   "metadata": {},
   "outputs": [
    {
     "data": {
      "text/html": [
       "<div>\n",
       "<style scoped>\n",
       "    .dataframe tbody tr th:only-of-type {\n",
       "        vertical-align: middle;\n",
       "    }\n",
       "\n",
       "    .dataframe tbody tr th {\n",
       "        vertical-align: top;\n",
       "    }\n",
       "\n",
       "    .dataframe thead th {\n",
       "        text-align: right;\n",
       "    }\n",
       "</style>\n",
       "<table border=\"1\" class=\"dataframe\">\n",
       "  <thead>\n",
       "    <tr style=\"text-align: right;\">\n",
       "      <th></th>\n",
       "      <th>Close</th>\n",
       "      <th>High</th>\n",
       "      <th>Low</th>\n",
       "      <th>Open</th>\n",
       "    </tr>\n",
       "    <tr>\n",
       "      <th>Date</th>\n",
       "      <th></th>\n",
       "      <th></th>\n",
       "      <th></th>\n",
       "      <th></th>\n",
       "    </tr>\n",
       "  </thead>\n",
       "  <tbody>\n",
       "    <tr>\n",
       "      <th>2010-01-04</th>\n",
       "      <td>7.640000</td>\n",
       "      <td>7.961429</td>\n",
       "      <td>7.565714</td>\n",
       "      <td>7.931429</td>\n",
       "    </tr>\n",
       "    <tr>\n",
       "      <th>2010-01-05</th>\n",
       "      <td>7.358571</td>\n",
       "      <td>7.657143</td>\n",
       "      <td>7.258571</td>\n",
       "      <td>7.652857</td>\n",
       "    </tr>\n",
       "    <tr>\n",
       "      <th>2010-01-06</th>\n",
       "      <td>7.617143</td>\n",
       "      <td>7.672857</td>\n",
       "      <td>7.197143</td>\n",
       "      <td>7.361429</td>\n",
       "    </tr>\n",
       "    <tr>\n",
       "      <th>2010-01-07</th>\n",
       "      <td>7.485714</td>\n",
       "      <td>7.757143</td>\n",
       "      <td>7.462857</td>\n",
       "      <td>7.731429</td>\n",
       "    </tr>\n",
       "    <tr>\n",
       "      <th>2010-01-08</th>\n",
       "      <td>7.614286</td>\n",
       "      <td>7.742857</td>\n",
       "      <td>7.465714</td>\n",
       "      <td>7.498571</td>\n",
       "    </tr>\n",
       "    <tr>\n",
       "      <th>...</th>\n",
       "      <td>...</td>\n",
       "      <td>...</td>\n",
       "      <td>...</td>\n",
       "      <td>...</td>\n",
       "    </tr>\n",
       "    <tr>\n",
       "      <th>2024-10-29</th>\n",
       "      <td>759.440002</td>\n",
       "      <td>763.880005</td>\n",
       "      <td>748.010010</td>\n",
       "      <td>751.130005</td>\n",
       "    </tr>\n",
       "    <tr>\n",
       "      <th>2024-10-30</th>\n",
       "      <td>753.739990</td>\n",
       "      <td>759.789978</td>\n",
       "      <td>752.280029</td>\n",
       "      <td>758.080017</td>\n",
       "    </tr>\n",
       "    <tr>\n",
       "      <th>2024-10-31</th>\n",
       "      <td>756.030029</td>\n",
       "      <td>760.789978</td>\n",
       "      <td>752.229981</td>\n",
       "      <td>753.929993</td>\n",
       "    </tr>\n",
       "    <tr>\n",
       "      <th>2024-11-01</th>\n",
       "      <td>756.099976</td>\n",
       "      <td>763.799988</td>\n",
       "      <td>747.770019</td>\n",
       "      <td>753.479981</td>\n",
       "    </tr>\n",
       "    <tr>\n",
       "      <th>2024-11-04</th>\n",
       "      <td>755.510010</td>\n",
       "      <td>762.479981</td>\n",
       "      <td>749.690002</td>\n",
       "      <td>753.140015</td>\n",
       "    </tr>\n",
       "  </tbody>\n",
       "</table>\n",
       "<p>3735 rows × 4 columns</p>\n",
       "</div>"
      ],
      "text/plain": [
       "                 Close        High         Low        Open\n",
       "Date                                                      \n",
       "2010-01-04    7.640000    7.961429    7.565714    7.931429\n",
       "2010-01-05    7.358571    7.657143    7.258571    7.652857\n",
       "2010-01-06    7.617143    7.672857    7.197143    7.361429\n",
       "2010-01-07    7.485714    7.757143    7.462857    7.731429\n",
       "2010-01-08    7.614286    7.742857    7.465714    7.498571\n",
       "...                ...         ...         ...         ...\n",
       "2024-10-29  759.440002  763.880005  748.010010  751.130005\n",
       "2024-10-30  753.739990  759.789978  752.280029  758.080017\n",
       "2024-10-31  756.030029  760.789978  752.229981  753.929993\n",
       "2024-11-01  756.099976  763.799988  747.770019  753.479981\n",
       "2024-11-04  755.510010  762.479981  749.690002  753.140015\n",
       "\n",
       "[3735 rows x 4 columns]"
      ]
     },
     "execution_count": 41,
     "metadata": {},
     "output_type": "execute_result"
    }
   ],
   "source": [
    "df"
   ]
  },
  {
   "cell_type": "code",
   "execution_count": 42,
   "id": "ff8a3972",
   "metadata": {},
   "outputs": [
    {
     "data": {
      "text/plain": [
       "Close    False\n",
       "High     False\n",
       "Low      False\n",
       "Open     False\n",
       "dtype: bool"
      ]
     },
     "execution_count": 42,
     "metadata": {},
     "output_type": "execute_result"
    }
   ],
   "source": [
    "df.isna().any()"
   ]
  },
  {
   "cell_type": "code",
   "execution_count": 55,
   "id": "9cf33f23",
   "metadata": {},
   "outputs": [],
   "source": [
    "train = df['2010-01':'2017-12']\n",
    "valid = df['2018-01':'2018-12']\n",
    "test = df['2019-01':'2019-12']"
   ]
  },
  {
   "cell_type": "code",
   "execution_count": 56,
   "id": "a6cdc5ef",
   "metadata": {},
   "outputs": [],
   "source": [
    "length = 56"
   ]
  },
  {
   "cell_type": "code",
   "execution_count": 57,
   "id": "b6924073",
   "metadata": {},
   "outputs": [],
   "source": [
    "train_ds = tf.keras.utils.timeseries_dataset_from_array(\n",
    "    train.to_numpy(),\n",
    "    targets=train[['High', 'Low']][56:],\n",
    "    sequence_length=length,\n",
    "    batch_size=32, \n",
    "    seed=42, \n",
    "    shuffle=True\n",
    ")"
   ]
  },
  {
   "cell_type": "code",
   "execution_count": 58,
   "id": "e4cbbe2b",
   "metadata": {},
   "outputs": [],
   "source": [
    "valid_ds = tf.keras.utils.timeseries_dataset_from_array(\n",
    "    valid.to_numpy(),\n",
    "    targets=valid[['High', 'Low']][56:],\n",
    "    sequence_length=length,\n",
    "    batch_size=32\n",
    ")"
   ]
  },
  {
   "cell_type": "markdown",
   "id": "38ef1999",
   "metadata": {},
   "source": [
    "# Creating the model"
   ]
  },
  {
   "cell_type": "code",
   "execution_count": 67,
   "id": "b91bcadc",
   "metadata": {},
   "outputs": [],
   "source": [
    "model = tf.keras.Sequential([\n",
    "    tf.keras.layers.Input(shape=[None, 4]),\n",
    "    tf.keras.layers.SimpleRNN(32, return_sequences=True),\n",
    "    tf.keras.layers.SimpleRNN(32, return_sequences=False),\n",
    "    tf.keras.layers.Dense(2)\n",
    "])"
   ]
  },
  {
   "cell_type": "code",
   "execution_count": 68,
   "id": "0c94c6cf",
   "metadata": {},
   "outputs": [],
   "source": [
    "model.compile(loss='huber', optimizer = 'adam', metrics=['mae'])"
   ]
  },
  {
   "cell_type": "code",
   "execution_count": 69,
   "id": "3c25f374",
   "metadata": {},
   "outputs": [
    {
     "name": "stdout",
     "output_type": "stream",
     "text": [
      "Epoch 1/50\n",
      "\u001b[1m61/61\u001b[0m \u001b[32m━━━━━━━━━━━━━━━━━━━━\u001b[0m\u001b[37m\u001b[0m \u001b[1m6s\u001b[0m 31ms/step - loss: 60.7758 - mae: 61.2794 - val_loss: 329.5374 - val_mae: 334.8918\n",
      "Epoch 2/50\n",
      "\u001b[1m61/61\u001b[0m \u001b[32m━━━━━━━━━━━━━━━━━━━━\u001b[0m\u001b[37m\u001b[0m \u001b[1m1s\u001b[0m 22ms/step - loss: 56.0606 - mae: 56.5530 - val_loss: 327.1623 - val_mae: 332.5167\n",
      "Epoch 3/50\n",
      "\u001b[1m61/61\u001b[0m \u001b[32m━━━━━━━━━━━━━━━━━━━━\u001b[0m\u001b[37m\u001b[0m \u001b[1m1s\u001b[0m 20ms/step - loss: 54.4031 - mae: 54.8987 - val_loss: 325.0861 - val_mae: 330.4405\n",
      "Epoch 4/50\n",
      "\u001b[1m61/61\u001b[0m \u001b[32m━━━━━━━━━━━━━━━━━━━━\u001b[0m\u001b[37m\u001b[0m \u001b[1m1s\u001b[0m 21ms/step - loss: 52.5788 - mae: 53.0712 - val_loss: 323.2141 - val_mae: 328.5685\n",
      "Epoch 5/50\n",
      "\u001b[1m61/61\u001b[0m \u001b[32m━━━━━━━━━━━━━━━━━━━━\u001b[0m\u001b[37m\u001b[0m \u001b[1m1s\u001b[0m 20ms/step - loss: 50.3552 - mae: 50.8514 - val_loss: 321.4458 - val_mae: 326.8003\n",
      "Epoch 6/50\n",
      "\u001b[1m61/61\u001b[0m \u001b[32m━━━━━━━━━━━━━━━━━━━━\u001b[0m\u001b[37m\u001b[0m \u001b[1m1s\u001b[0m 19ms/step - loss: 49.4203 - mae: 49.8887 - val_loss: 319.5277 - val_mae: 324.8821\n",
      "Epoch 7/50\n",
      "\u001b[1m61/61\u001b[0m \u001b[32m━━━━━━━━━━━━━━━━━━━━\u001b[0m\u001b[37m\u001b[0m \u001b[1m1s\u001b[0m 21ms/step - loss: 47.7547 - mae: 48.2206 - val_loss: 317.6765 - val_mae: 323.0309\n",
      "Epoch 8/50\n",
      "\u001b[1m61/61\u001b[0m \u001b[32m━━━━━━━━━━━━━━━━━━━━\u001b[0m\u001b[37m\u001b[0m \u001b[1m1s\u001b[0m 22ms/step - loss: 46.9763 - mae: 47.4252 - val_loss: 315.8456 - val_mae: 321.1999\n",
      "Epoch 9/50\n",
      "\u001b[1m61/61\u001b[0m \u001b[32m━━━━━━━━━━━━━━━━━━━━\u001b[0m\u001b[37m\u001b[0m \u001b[1m1s\u001b[0m 20ms/step - loss: 44.9444 - mae: 45.3893 - val_loss: 314.0111 - val_mae: 319.3655\n",
      "Epoch 10/50\n",
      "\u001b[1m61/61\u001b[0m \u001b[32m━━━━━━━━━━━━━━━━━━━━\u001b[0m\u001b[37m\u001b[0m \u001b[1m1s\u001b[0m 21ms/step - loss: 43.3958 - mae: 43.8269 - val_loss: 312.1797 - val_mae: 317.5341\n",
      "Epoch 11/50\n",
      "\u001b[1m61/61\u001b[0m \u001b[32m━━━━━━━━━━━━━━━━━━━━\u001b[0m\u001b[37m\u001b[0m \u001b[1m1s\u001b[0m 21ms/step - loss: 42.0547 - mae: 42.5007 - val_loss: 310.3823 - val_mae: 315.7367\n",
      "Epoch 12/50\n",
      "\u001b[1m61/61\u001b[0m \u001b[32m━━━━━━━━━━━━━━━━━━━━\u001b[0m\u001b[37m\u001b[0m \u001b[1m1s\u001b[0m 22ms/step - loss: 40.7416 - mae: 41.1819 - val_loss: 308.6263 - val_mae: 313.9807\n",
      "Epoch 13/50\n",
      "\u001b[1m61/61\u001b[0m \u001b[32m━━━━━━━━━━━━━━━━━━━━\u001b[0m\u001b[37m\u001b[0m \u001b[1m1s\u001b[0m 22ms/step - loss: 39.7170 - mae: 40.1580 - val_loss: 306.9050 - val_mae: 312.2594\n",
      "Epoch 14/50\n",
      "\u001b[1m61/61\u001b[0m \u001b[32m━━━━━━━━━━━━━━━━━━━━\u001b[0m\u001b[37m\u001b[0m \u001b[1m1s\u001b[0m 22ms/step - loss: 38.7579 - mae: 39.1949 - val_loss: 305.1857 - val_mae: 310.5401\n",
      "Epoch 15/50\n",
      "\u001b[1m61/61\u001b[0m \u001b[32m━━━━━━━━━━━━━━━━━━━━\u001b[0m\u001b[37m\u001b[0m \u001b[1m2s\u001b[0m 25ms/step - loss: 37.6094 - mae: 38.0434 - val_loss: 303.5146 - val_mae: 308.8690\n",
      "Epoch 16/50\n",
      "\u001b[1m61/61\u001b[0m \u001b[32m━━━━━━━━━━━━━━━━━━━━\u001b[0m\u001b[37m\u001b[0m \u001b[1m1s\u001b[0m 24ms/step - loss: 36.1987 - mae: 36.6213 - val_loss: 301.8711 - val_mae: 307.2255\n",
      "Epoch 17/50\n",
      "\u001b[1m61/61\u001b[0m \u001b[32m━━━━━━━━━━━━━━━━━━━━\u001b[0m\u001b[37m\u001b[0m \u001b[1m1s\u001b[0m 24ms/step - loss: 36.3933 - mae: 36.8141 - val_loss: 300.2670 - val_mae: 305.6214\n",
      "Epoch 18/50\n",
      "\u001b[1m61/61\u001b[0m \u001b[32m━━━━━━━━━━━━━━━━━━━━\u001b[0m\u001b[37m\u001b[0m \u001b[1m1s\u001b[0m 21ms/step - loss: 34.3910 - mae: 34.8065 - val_loss: 298.6690 - val_mae: 304.0234\n",
      "Epoch 19/50\n",
      "\u001b[1m61/61\u001b[0m \u001b[32m━━━━━━━━━━━━━━━━━━━━\u001b[0m\u001b[37m\u001b[0m \u001b[1m1s\u001b[0m 21ms/step - loss: 32.8387 - mae: 33.2420 - val_loss: 297.0757 - val_mae: 302.4301\n",
      "Epoch 20/50\n",
      "\u001b[1m61/61\u001b[0m \u001b[32m━━━━━━━━━━━━━━━━━━━━\u001b[0m\u001b[37m\u001b[0m \u001b[1m1s\u001b[0m 21ms/step - loss: 33.2366 - mae: 33.6418 - val_loss: 295.4878 - val_mae: 300.8423\n",
      "Epoch 21/50\n",
      "\u001b[1m61/61\u001b[0m \u001b[32m━━━━━━━━━━━━━━━━━━━━\u001b[0m\u001b[37m\u001b[0m \u001b[1m2s\u001b[0m 24ms/step - loss: 31.2182 - mae: 31.6151 - val_loss: 293.8916 - val_mae: 299.2460\n",
      "Epoch 22/50\n",
      "\u001b[1m61/61\u001b[0m \u001b[32m━━━━━━━━━━━━━━━━━━━━\u001b[0m\u001b[37m\u001b[0m \u001b[1m2s\u001b[0m 24ms/step - loss: 30.4680 - mae: 30.8935 - val_loss: 292.3003 - val_mae: 297.6547\n",
      "Epoch 23/50\n",
      "\u001b[1m61/61\u001b[0m \u001b[32m━━━━━━━━━━━━━━━━━━━━\u001b[0m\u001b[37m\u001b[0m \u001b[1m2s\u001b[0m 24ms/step - loss: 30.7005 - mae: 31.1150 - val_loss: 290.7222 - val_mae: 296.0766\n",
      "Epoch 24/50\n",
      "\u001b[1m61/61\u001b[0m \u001b[32m━━━━━━━━━━━━━━━━━━━━\u001b[0m\u001b[37m\u001b[0m \u001b[1m2s\u001b[0m 24ms/step - loss: 30.0339 - mae: 30.4309 - val_loss: 289.1451 - val_mae: 294.4995\n",
      "Epoch 25/50\n",
      "\u001b[1m61/61\u001b[0m \u001b[32m━━━━━━━━━━━━━━━━━━━━\u001b[0m\u001b[37m\u001b[0m \u001b[1m1s\u001b[0m 23ms/step - loss: 27.9266 - mae: 28.3264 - val_loss: 287.6140 - val_mae: 292.9685\n",
      "Epoch 26/50\n",
      "\u001b[1m61/61\u001b[0m \u001b[32m━━━━━━━━━━━━━━━━━━━━\u001b[0m\u001b[37m\u001b[0m \u001b[1m1s\u001b[0m 24ms/step - loss: 28.2495 - mae: 28.6479 - val_loss: 286.0957 - val_mae: 291.4501\n",
      "Epoch 27/50\n",
      "\u001b[1m61/61\u001b[0m \u001b[32m━━━━━━━━━━━━━━━━━━━━\u001b[0m\u001b[37m\u001b[0m \u001b[1m1s\u001b[0m 22ms/step - loss: 27.1671 - mae: 27.5793 - val_loss: 284.6227 - val_mae: 289.9771\n",
      "Epoch 28/50\n",
      "\u001b[1m61/61\u001b[0m \u001b[32m━━━━━━━━━━━━━━━━━━━━\u001b[0m\u001b[37m\u001b[0m \u001b[1m1s\u001b[0m 21ms/step - loss: 26.9121 - mae: 27.3150 - val_loss: 283.1477 - val_mae: 288.5021\n",
      "Epoch 29/50\n",
      "\u001b[1m61/61\u001b[0m \u001b[32m━━━━━━━━━━━━━━━━━━━━\u001b[0m\u001b[37m\u001b[0m \u001b[1m1s\u001b[0m 21ms/step - loss: 26.3380 - mae: 26.7623 - val_loss: 281.7187 - val_mae: 287.0731\n",
      "Epoch 30/50\n",
      "\u001b[1m61/61\u001b[0m \u001b[32m━━━━━━━━━━━━━━━━━━━━\u001b[0m\u001b[37m\u001b[0m \u001b[1m1s\u001b[0m 21ms/step - loss: 25.1567 - mae: 25.5484 - val_loss: 280.2495 - val_mae: 285.6039\n",
      "Epoch 31/50\n",
      "\u001b[1m61/61\u001b[0m \u001b[32m━━━━━━━━━━━━━━━━━━━━\u001b[0m\u001b[37m\u001b[0m \u001b[1m1s\u001b[0m 20ms/step - loss: 24.3905 - mae: 24.7976 - val_loss: 278.8083 - val_mae: 284.1627\n",
      "Epoch 32/50\n",
      "\u001b[1m61/61\u001b[0m \u001b[32m━━━━━━━━━━━━━━━━━━━━\u001b[0m\u001b[37m\u001b[0m \u001b[1m1s\u001b[0m 21ms/step - loss: 22.8157 - mae: 23.2220 - val_loss: 277.3318 - val_mae: 282.6862\n",
      "Epoch 33/50\n",
      "\u001b[1m61/61\u001b[0m \u001b[32m━━━━━━━━━━━━━━━━━━━━\u001b[0m\u001b[37m\u001b[0m \u001b[1m1s\u001b[0m 21ms/step - loss: 22.2294 - mae: 22.6083 - val_loss: 275.8622 - val_mae: 281.2166\n",
      "Epoch 34/50\n",
      "\u001b[1m61/61\u001b[0m \u001b[32m━━━━━━━━━━━━━━━━━━━━\u001b[0m\u001b[37m\u001b[0m \u001b[1m1s\u001b[0m 22ms/step - loss: 22.2630 - mae: 22.6499 - val_loss: 274.3936 - val_mae: 279.7480\n",
      "Epoch 35/50\n",
      "\u001b[1m61/61\u001b[0m \u001b[32m━━━━━━━━━━━━━━━━━━━━\u001b[0m\u001b[37m\u001b[0m \u001b[1m1s\u001b[0m 22ms/step - loss: 21.6103 - mae: 22.0073 - val_loss: 273.0151 - val_mae: 278.3695\n",
      "Epoch 36/50\n",
      "\u001b[1m61/61\u001b[0m \u001b[32m━━━━━━━━━━━━━━━━━━━━\u001b[0m\u001b[37m\u001b[0m \u001b[1m1s\u001b[0m 21ms/step - loss: 21.2732 - mae: 21.6604 - val_loss: 271.6583 - val_mae: 277.0127\n",
      "Epoch 37/50\n",
      "\u001b[1m61/61\u001b[0m \u001b[32m━━━━━━━━━━━━━━━━━━━━\u001b[0m\u001b[37m\u001b[0m \u001b[1m1s\u001b[0m 21ms/step - loss: 20.6018 - mae: 20.9958 - val_loss: 270.3280 - val_mae: 275.6824\n",
      "Epoch 38/50\n",
      "\u001b[1m61/61\u001b[0m \u001b[32m━━━━━━━━━━━━━━━━━━━━\u001b[0m\u001b[37m\u001b[0m \u001b[1m1s\u001b[0m 20ms/step - loss: 19.8853 - mae: 20.2688 - val_loss: 269.0191 - val_mae: 274.3735\n",
      "Epoch 39/50\n",
      "\u001b[1m61/61\u001b[0m \u001b[32m━━━━━━━━━━━━━━━━━━━━\u001b[0m\u001b[37m\u001b[0m \u001b[1m1s\u001b[0m 21ms/step - loss: 20.2199 - mae: 20.6049 - val_loss: 267.6918 - val_mae: 273.0462\n",
      "Epoch 40/50\n",
      "\u001b[1m61/61\u001b[0m \u001b[32m━━━━━━━━━━━━━━━━━━━━\u001b[0m\u001b[37m\u001b[0m \u001b[1m1s\u001b[0m 20ms/step - loss: 18.8136 - mae: 19.2085 - val_loss: 266.3836 - val_mae: 271.7378\n",
      "Epoch 41/50\n",
      "\u001b[1m61/61\u001b[0m \u001b[32m━━━━━━━━━━━━━━━━━━━━\u001b[0m\u001b[37m\u001b[0m \u001b[1m1s\u001b[0m 20ms/step - loss: 18.7956 - mae: 19.1726 - val_loss: 265.0718 - val_mae: 270.4262\n",
      "Epoch 42/50\n",
      "\u001b[1m61/61\u001b[0m \u001b[32m━━━━━━━━━━━━━━━━━━━━\u001b[0m\u001b[37m\u001b[0m \u001b[1m1s\u001b[0m 21ms/step - loss: 18.5917 - mae: 18.9785 - val_loss: 263.7143 - val_mae: 269.0687\n",
      "Epoch 43/50\n",
      "\u001b[1m61/61\u001b[0m \u001b[32m━━━━━━━━━━━━━━━━━━━━\u001b[0m\u001b[37m\u001b[0m \u001b[1m1s\u001b[0m 19ms/step - loss: 17.2603 - mae: 17.6365 - val_loss: 262.3708 - val_mae: 267.7251\n",
      "Epoch 44/50\n",
      "\u001b[1m61/61\u001b[0m \u001b[32m━━━━━━━━━━━━━━━━━━━━\u001b[0m\u001b[37m\u001b[0m \u001b[1m1s\u001b[0m 22ms/step - loss: 17.7361 - mae: 18.1021 - val_loss: 260.9861 - val_mae: 266.3403\n",
      "Epoch 45/50\n",
      "\u001b[1m61/61\u001b[0m \u001b[32m━━━━━━━━━━━━━━━━━━━━\u001b[0m\u001b[37m\u001b[0m \u001b[1m1s\u001b[0m 23ms/step - loss: 16.3046 - mae: 16.6734 - val_loss: 259.6014 - val_mae: 264.9557\n",
      "Epoch 46/50\n",
      "\u001b[1m61/61\u001b[0m \u001b[32m━━━━━━━━━━━━━━━━━━━━\u001b[0m\u001b[37m\u001b[0m \u001b[1m1s\u001b[0m 20ms/step - loss: 16.2379 - mae: 16.6076 - val_loss: 258.1938 - val_mae: 263.5481\n",
      "Epoch 47/50\n",
      "\u001b[1m61/61\u001b[0m \u001b[32m━━━━━━━━━━━━━━━━━━━━\u001b[0m\u001b[37m\u001b[0m \u001b[1m1s\u001b[0m 20ms/step - loss: 16.3501 - mae: 16.7413 - val_loss: 256.7440 - val_mae: 262.0983\n",
      "Epoch 48/50\n",
      "\u001b[1m61/61\u001b[0m \u001b[32m━━━━━━━━━━━━━━━━━━━━\u001b[0m\u001b[37m\u001b[0m \u001b[1m1s\u001b[0m 22ms/step - loss: 15.0741 - mae: 15.4560 - val_loss: 255.3063 - val_mae: 260.6607\n",
      "Epoch 49/50\n",
      "\u001b[1m61/61\u001b[0m \u001b[32m━━━━━━━━━━━━━━━━━━━━\u001b[0m\u001b[37m\u001b[0m \u001b[1m1s\u001b[0m 20ms/step - loss: 14.6726 - mae: 15.0409 - val_loss: 253.8898 - val_mae: 259.2442\n",
      "Epoch 50/50\n",
      "\u001b[1m61/61\u001b[0m \u001b[32m━━━━━━━━━━━━━━━━━━━━\u001b[0m\u001b[37m\u001b[0m \u001b[1m1s\u001b[0m 20ms/step - loss: 14.4675 - mae: 14.8426 - val_loss: 252.4655 - val_mae: 257.8199\n"
     ]
    }
   ],
   "source": [
    "history = model.fit(train_ds, validation_data=valid_ds, epochs=50)"
   ]
  },
  {
   "cell_type": "code",
   "execution_count": 71,
   "id": "f3324e9a",
   "metadata": {},
   "outputs": [],
   "source": [
    "loss = history.history['loss']\n",
    "validation_loss = history.history['val_loss']"
   ]
  },
  {
   "cell_type": "code",
   "execution_count": 74,
   "id": "6c6387d3",
   "metadata": {},
   "outputs": [
    {
     "data": {
      "image/png": "[encoded data removed]",
      "text/plain": [
       "<Figure size 640x480 with 1 Axes>"
      ]
     },
     "metadata": {},
     "output_type": "display_data"
    }
   ],
   "source": [
    "plt.plot(validation_loss, label = 'Validation Loss')\n",
    "\n",
    "plt.legend()\n",
    "plt.show()"
   ]
  },
  {
   "cell_type": "markdown",
   "id": "c2c5cdd0",
   "metadata": {},
   "source": [
    "# Creating a RNN model"
   ]
  },
  {
   "cell_type": "markdown",
   "id": "c2e0caaa",
   "metadata": {},
   "source": [
    "# Forecasting Several Time Step Ahead"
   ]
  },
  {
   "cell_type": "code",
   "execution_count": null,
   "id": "d60b73f9",
   "metadata": {},
   "outputs": [],
   "source": []
  }
 ],
 "metadata": {
  "kernelspec": {
   "display_name": "Python 3 (ipykernel)",
   "language": "python",
   "name": "python3"
  },
  "language_info": {
   "codemirror_mode": {
    "name": "ipython",
    "version": 3
   },
   "file_extension": ".py",
   "mimetype": "text/x-python",
   "name": "python",
   "nbconvert_exporter": "python",
   "pygments_lexer": "ipython3",
   "version": "3.11.4"
  }
 },
 "nbformat": 4,
 "nbformat_minor": 5
}
